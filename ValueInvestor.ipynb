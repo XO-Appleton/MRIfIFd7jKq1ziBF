{
  "nbformat": 4,
  "nbformat_minor": 0,
  "metadata": {
    "colab": {
      "provenance": []
    },
    "kernelspec": {
      "name": "python3",
      "display_name": "Python 3"
    },
    "language_info": {
      "name": "python"
    }
  },
  "cells": [
    {
      "cell_type": "markdown",
      "source": [
        "# Value Investor\n",
        "\n",
        "- Author: Yumo Bai\n",
        "- Email: baiym104@gmail.com\n",
        "- Date: May 10, 2023"
      ],
      "metadata": {
        "id": "1xOh46IXLjnv"
      }
    },
    {
      "cell_type": "markdown",
      "source": [
        "## Import libraries & Data"
      ],
      "metadata": {
        "id": "jAySpo7OMoSm"
      }
    },
    {
      "cell_type": "code",
      "source": [
        "import numpy as np\n",
        "import pandas as pd\n",
        "import matplotlib.pyplot as plt"
      ],
      "metadata": {
        "id": "wI416rLnNUdY"
      },
      "execution_count": 1,
      "outputs": []
    },
    {
      "cell_type": "code",
      "source": [
        "import os\n",
        "\n",
        "filenames = os.listdir('data')\n",
        "\n",
        "# We will store the stock data for all companies by their company code\n",
        "stock_dfs = {}"
      ],
      "metadata": {
        "id": "d2Xs4a20NdE9"
      },
      "execution_count": 2,
      "outputs": []
    },
    {
      "cell_type": "code",
      "source": [
        "def get_company_code(name):\n",
        "  return name[name.find(\"(\")+1:name.find(\")\")]\n",
        "\n",
        "get_company_code('2020Q1Q2Q3Q4-2021Q1 - Argentina - Pampa Energia SA (PAMP).csv')"
      ],
      "metadata": {
        "colab": {
          "base_uri": "https://localhost:8080/"
        },
        "id": "w51r69npOOux",
        "outputId": "8a8d44d4-7384-4a1d-c0da-16d83d1c153b"
      },
      "execution_count": 3,
      "outputs": [
        {
          "output_type": "execute_result",
          "data": {
            "text/plain": [
              "'PAMP'"
            ]
          },
          "metadata": {},
          "execution_count": 3
        }
      ]
    },
    {
      "cell_type": "code",
      "source": [
        "for fname in filenames:\n",
        "  stock_dfs[get_company_code(fname)] = pd.read_csv(os.path.join('./data', fname))"
      ],
      "metadata": {
        "id": "QeK4nMtKQVxj"
      },
      "execution_count": 4,
      "outputs": []
    },
    {
      "cell_type": "code",
      "source": [
        "stock_dfs['PAMP'].head()"
      ],
      "metadata": {
        "id": "Won4TFP1Ronx",
        "colab": {
          "base_uri": "https://localhost:8080/",
          "height": 206
        },
        "outputId": "356a79cf-2a0d-4ac4-efad-71828fd15bff"
      },
      "execution_count": 14,
      "outputs": [
        {
          "output_type": "execute_result",
          "data": {
            "text/plain": [
              "           Date  Price   Open   High    Low     Vol. Change %\n",
              "0  Mar 31, 2021  85.15   86.5   88.1  85.15  564.30K   -1.10%\n",
              "1  Mar 30, 2021   86.1  85.15  86.75   84.6  141.40K    1.29%\n",
              "2  Mar 29, 2021     85     80     86     79  371.22K    3.85%\n",
              "3  Mar 26, 2021  81.85     84   84.6   80.7  462.55K   -2.09%\n",
              "4  Mar 25, 2021   83.6   85.2   87.3   82.1  389.78K   -3.13%"
            ],
            "text/html": [
              "<div>\n",
              "<style scoped>\n",
              "    .dataframe tbody tr th:only-of-type {\n",
              "        vertical-align: middle;\n",
              "    }\n",
              "\n",
              "    .dataframe tbody tr th {\n",
              "        vertical-align: top;\n",
              "    }\n",
              "\n",
              "    .dataframe thead th {\n",
              "        text-align: right;\n",
              "    }\n",
              "</style>\n",
              "<table border=\"1\" class=\"dataframe\">\n",
              "  <thead>\n",
              "    <tr style=\"text-align: right;\">\n",
              "      <th></th>\n",
              "      <th>Date</th>\n",
              "      <th>Price</th>\n",
              "      <th>Open</th>\n",
              "      <th>High</th>\n",
              "      <th>Low</th>\n",
              "      <th>Vol.</th>\n",
              "      <th>Change %</th>\n",
              "    </tr>\n",
              "  </thead>\n",
              "  <tbody>\n",
              "    <tr>\n",
              "      <th>0</th>\n",
              "      <td>Mar 31, 2021</td>\n",
              "      <td>85.15</td>\n",
              "      <td>86.5</td>\n",
              "      <td>88.1</td>\n",
              "      <td>85.15</td>\n",
              "      <td>564.30K</td>\n",
              "      <td>-1.10%</td>\n",
              "    </tr>\n",
              "    <tr>\n",
              "      <th>1</th>\n",
              "      <td>Mar 30, 2021</td>\n",
              "      <td>86.1</td>\n",
              "      <td>85.15</td>\n",
              "      <td>86.75</td>\n",
              "      <td>84.6</td>\n",
              "      <td>141.40K</td>\n",
              "      <td>1.29%</td>\n",
              "    </tr>\n",
              "    <tr>\n",
              "      <th>2</th>\n",
              "      <td>Mar 29, 2021</td>\n",
              "      <td>85</td>\n",
              "      <td>80</td>\n",
              "      <td>86</td>\n",
              "      <td>79</td>\n",
              "      <td>371.22K</td>\n",
              "      <td>3.85%</td>\n",
              "    </tr>\n",
              "    <tr>\n",
              "      <th>3</th>\n",
              "      <td>Mar 26, 2021</td>\n",
              "      <td>81.85</td>\n",
              "      <td>84</td>\n",
              "      <td>84.6</td>\n",
              "      <td>80.7</td>\n",
              "      <td>462.55K</td>\n",
              "      <td>-2.09%</td>\n",
              "    </tr>\n",
              "    <tr>\n",
              "      <th>4</th>\n",
              "      <td>Mar 25, 2021</td>\n",
              "      <td>83.6</td>\n",
              "      <td>85.2</td>\n",
              "      <td>87.3</td>\n",
              "      <td>82.1</td>\n",
              "      <td>389.78K</td>\n",
              "      <td>-3.13%</td>\n",
              "    </tr>\n",
              "  </tbody>\n",
              "</table>\n",
              "</div>"
            ]
          },
          "metadata": {},
          "execution_count": 14
        }
      ]
    },
    {
      "cell_type": "code",
      "source": [
        "stock_dfs['PAMP'].info()"
      ],
      "metadata": {
        "colab": {
          "base_uri": "https://localhost:8080/"
        },
        "id": "j5k-9mu2awDq",
        "outputId": "f35dbdc5-543d-4846-a4bf-bfb2e375ba5a"
      },
      "execution_count": 8,
      "outputs": [
        {
          "output_type": "stream",
          "name": "stdout",
          "text": [
            "<class 'pandas.core.frame.DataFrame'>\n",
            "RangeIndex: 301 entries, 0 to 300\n",
            "Data columns (total 7 columns):\n",
            " #   Column    Non-Null Count  Dtype \n",
            "---  ------    --------------  ----- \n",
            " 0   Date      301 non-null    object\n",
            " 1   Price     301 non-null    object\n",
            " 2   Open      301 non-null    object\n",
            " 3   High      301 non-null    object\n",
            " 4   Low       301 non-null    object\n",
            " 5   Vol.      300 non-null    object\n",
            " 6   Change %  300 non-null    object\n",
            "dtypes: object(7)\n",
            "memory usage: 16.6+ KB\n"
          ]
        }
      ]
    },
    {
      "cell_type": "markdown",
      "source": [
        "## Data Preprocessing"
      ],
      "metadata": {
        "id": "4OYM9d1_a5JY"
      }
    },
    {
      "cell_type": "markdown",
      "source": [
        "We notice that the last row of the datasets stores a summary of the stock price change which should be discarded for modelling in the future."
      ],
      "metadata": {
        "id": "5LqH5Dr1dqFM"
      }
    },
    {
      "cell_type": "code",
      "source": [
        "stock_dfs['PAMP'].tail()"
      ],
      "metadata": {
        "colab": {
          "base_uri": "https://localhost:8080/",
          "height": 206
        },
        "id": "YooG6jZTdkUb",
        "outputId": "54ffa18e-9677-4f26-8dd0-2530884a5e3d"
      },
      "execution_count": null,
      "outputs": [
        {
          "output_type": "execute_result",
          "data": {
            "text/plain": [
              "                Date           Price                Open             High  \\\n",
              "296     Jan 07, 2020            47.6               48.35               49   \n",
              "297     Jan 06, 2020            48.5                48.4             48.7   \n",
              "298     Jan 03, 2020            48.8               48.25            49.45   \n",
              "299     Jan 02, 2020           48.25               49.35             50.2   \n",
              "300  Highest: 90.000  Lowest: 32.000  Difference: 58.000  Average: 61.244   \n",
              "\n",
              "                  Low     Vol. Change %  \n",
              "296              46.9  901.95K   -1.86%  \n",
              "297                47  719.24K   -0.61%  \n",
              "298              46.5  595.36K    1.14%  \n",
              "299             47.55  878.50K   -2.92%  \n",
              "300  Change %: 71.328      NaN      NaN  "
            ],
            "text/html": [
              "<div>\n",
              "<style scoped>\n",
              "    .dataframe tbody tr th:only-of-type {\n",
              "        vertical-align: middle;\n",
              "    }\n",
              "\n",
              "    .dataframe tbody tr th {\n",
              "        vertical-align: top;\n",
              "    }\n",
              "\n",
              "    .dataframe thead th {\n",
              "        text-align: right;\n",
              "    }\n",
              "</style>\n",
              "<table border=\"1\" class=\"dataframe\">\n",
              "  <thead>\n",
              "    <tr style=\"text-align: right;\">\n",
              "      <th></th>\n",
              "      <th>Date</th>\n",
              "      <th>Price</th>\n",
              "      <th>Open</th>\n",
              "      <th>High</th>\n",
              "      <th>Low</th>\n",
              "      <th>Vol.</th>\n",
              "      <th>Change %</th>\n",
              "    </tr>\n",
              "  </thead>\n",
              "  <tbody>\n",
              "    <tr>\n",
              "      <th>296</th>\n",
              "      <td>Jan 07, 2020</td>\n",
              "      <td>47.6</td>\n",
              "      <td>48.35</td>\n",
              "      <td>49</td>\n",
              "      <td>46.9</td>\n",
              "      <td>901.95K</td>\n",
              "      <td>-1.86%</td>\n",
              "    </tr>\n",
              "    <tr>\n",
              "      <th>297</th>\n",
              "      <td>Jan 06, 2020</td>\n",
              "      <td>48.5</td>\n",
              "      <td>48.4</td>\n",
              "      <td>48.7</td>\n",
              "      <td>47</td>\n",
              "      <td>719.24K</td>\n",
              "      <td>-0.61%</td>\n",
              "    </tr>\n",
              "    <tr>\n",
              "      <th>298</th>\n",
              "      <td>Jan 03, 2020</td>\n",
              "      <td>48.8</td>\n",
              "      <td>48.25</td>\n",
              "      <td>49.45</td>\n",
              "      <td>46.5</td>\n",
              "      <td>595.36K</td>\n",
              "      <td>1.14%</td>\n",
              "    </tr>\n",
              "    <tr>\n",
              "      <th>299</th>\n",
              "      <td>Jan 02, 2020</td>\n",
              "      <td>48.25</td>\n",
              "      <td>49.35</td>\n",
              "      <td>50.2</td>\n",
              "      <td>47.55</td>\n",
              "      <td>878.50K</td>\n",
              "      <td>-2.92%</td>\n",
              "    </tr>\n",
              "    <tr>\n",
              "      <th>300</th>\n",
              "      <td>Highest: 90.000</td>\n",
              "      <td>Lowest: 32.000</td>\n",
              "      <td>Difference: 58.000</td>\n",
              "      <td>Average: 61.244</td>\n",
              "      <td>Change %: 71.328</td>\n",
              "      <td>NaN</td>\n",
              "      <td>NaN</td>\n",
              "    </tr>\n",
              "  </tbody>\n",
              "</table>\n",
              "</div>"
            ]
          },
          "metadata": {},
          "execution_count": 15
        }
      ]
    },
    {
      "cell_type": "code",
      "source": [
        "for code in stock_dfs:\n",
        "  df = stock_dfs[code]\n",
        "  df.drop(df.tail(1).index,inplace=True)"
      ],
      "metadata": {
        "id": "6Yc2-ee8eFnY"
      },
      "execution_count": null,
      "outputs": []
    },
    {
      "cell_type": "code",
      "source": [
        "# The last row is successfully removed\n",
        "stock_dfs['PAMP'].tail()"
      ],
      "metadata": {
        "colab": {
          "base_uri": "https://localhost:8080/",
          "height": 206
        },
        "id": "jpuw52Oleeab",
        "outputId": "6d66c923-6e92-4199-df0a-6aa907c83dc2"
      },
      "execution_count": null,
      "outputs": [
        {
          "output_type": "execute_result",
          "data": {
            "text/plain": [
              "             Date  Price   Open   High    Low     Vol. Change %\n",
              "295  Jan 08, 2020   46.5   47.5   47.5     46    1.18M   -2.31%\n",
              "296  Jan 07, 2020   47.6  48.35     49   46.9  901.95K   -1.86%\n",
              "297  Jan 06, 2020   48.5   48.4   48.7     47  719.24K   -0.61%\n",
              "298  Jan 03, 2020   48.8  48.25  49.45   46.5  595.36K    1.14%\n",
              "299  Jan 02, 2020  48.25  49.35   50.2  47.55  878.50K   -2.92%"
            ],
            "text/html": [
              "<div>\n",
              "<style scoped>\n",
              "    .dataframe tbody tr th:only-of-type {\n",
              "        vertical-align: middle;\n",
              "    }\n",
              "\n",
              "    .dataframe tbody tr th {\n",
              "        vertical-align: top;\n",
              "    }\n",
              "\n",
              "    .dataframe thead th {\n",
              "        text-align: right;\n",
              "    }\n",
              "</style>\n",
              "<table border=\"1\" class=\"dataframe\">\n",
              "  <thead>\n",
              "    <tr style=\"text-align: right;\">\n",
              "      <th></th>\n",
              "      <th>Date</th>\n",
              "      <th>Price</th>\n",
              "      <th>Open</th>\n",
              "      <th>High</th>\n",
              "      <th>Low</th>\n",
              "      <th>Vol.</th>\n",
              "      <th>Change %</th>\n",
              "    </tr>\n",
              "  </thead>\n",
              "  <tbody>\n",
              "    <tr>\n",
              "      <th>295</th>\n",
              "      <td>Jan 08, 2020</td>\n",
              "      <td>46.5</td>\n",
              "      <td>47.5</td>\n",
              "      <td>47.5</td>\n",
              "      <td>46</td>\n",
              "      <td>1.18M</td>\n",
              "      <td>-2.31%</td>\n",
              "    </tr>\n",
              "    <tr>\n",
              "      <th>296</th>\n",
              "      <td>Jan 07, 2020</td>\n",
              "      <td>47.6</td>\n",
              "      <td>48.35</td>\n",
              "      <td>49</td>\n",
              "      <td>46.9</td>\n",
              "      <td>901.95K</td>\n",
              "      <td>-1.86%</td>\n",
              "    </tr>\n",
              "    <tr>\n",
              "      <th>297</th>\n",
              "      <td>Jan 06, 2020</td>\n",
              "      <td>48.5</td>\n",
              "      <td>48.4</td>\n",
              "      <td>48.7</td>\n",
              "      <td>47</td>\n",
              "      <td>719.24K</td>\n",
              "      <td>-0.61%</td>\n",
              "    </tr>\n",
              "    <tr>\n",
              "      <th>298</th>\n",
              "      <td>Jan 03, 2020</td>\n",
              "      <td>48.8</td>\n",
              "      <td>48.25</td>\n",
              "      <td>49.45</td>\n",
              "      <td>46.5</td>\n",
              "      <td>595.36K</td>\n",
              "      <td>1.14%</td>\n",
              "    </tr>\n",
              "    <tr>\n",
              "      <th>299</th>\n",
              "      <td>Jan 02, 2020</td>\n",
              "      <td>48.25</td>\n",
              "      <td>49.35</td>\n",
              "      <td>50.2</td>\n",
              "      <td>47.55</td>\n",
              "      <td>878.50K</td>\n",
              "      <td>-2.92%</td>\n",
              "    </tr>\n",
              "  </tbody>\n",
              "</table>\n",
              "</div>"
            ]
          },
          "metadata": {},
          "execution_count": 17
        }
      ]
    },
    {
      "cell_type": "markdown",
      "source": [
        "Now we need to convert the `Price` to numerical representation."
      ],
      "metadata": {
        "id": "5CIJeWVp1TrC"
      }
    },
    {
      "cell_type": "code",
      "source": [
        "for code in stock_dfs:\n",
        "  df = stock_dfs[code]\n",
        "  df['Price'] = df['Price'].apply(lambda x: float(''.join(x.split(','))))"
      ],
      "metadata": {
        "id": "GDYnMZvy19_3"
      },
      "execution_count": 35,
      "outputs": []
    },
    {
      "cell_type": "markdown",
      "source": [
        "We notice that the `Date` is currently stored as string. It might be helpful to convert them into datetime for further uses."
      ],
      "metadata": {
        "id": "4q0kvDetesRu"
      }
    },
    {
      "cell_type": "code",
      "source": [
        "from datetime import datetime\n",
        "\n",
        "for code in stock_dfs:\n",
        "  df = stock_dfs[code]\n",
        "  df['Date'] = df['Date'].apply(lambda x: datetime.strptime(x, '%b %d, %Y'))"
      ],
      "metadata": {
        "id": "eemhgNGybLS3"
      },
      "execution_count": 20,
      "outputs": []
    },
    {
      "cell_type": "code",
      "source": [
        "# the Date column has successfully been transformed\n",
        "stock_dfs['PAMP'].info()"
      ],
      "metadata": {
        "colab": {
          "base_uri": "https://localhost:8080/"
        },
        "id": "4OKy7z9Vc7mM",
        "outputId": "af6c287d-2d15-4e2a-fcf2-077904dc69d2"
      },
      "execution_count": 21,
      "outputs": [
        {
          "output_type": "stream",
          "name": "stdout",
          "text": [
            "<class 'pandas.core.frame.DataFrame'>\n",
            "Int64Index: 300 entries, 0 to 299\n",
            "Data columns (total 7 columns):\n",
            " #   Column    Non-Null Count  Dtype         \n",
            "---  ------    --------------  -----         \n",
            " 0   Date      300 non-null    datetime64[ns]\n",
            " 1   Price     300 non-null    object        \n",
            " 2   Open      300 non-null    object        \n",
            " 3   High      300 non-null    object        \n",
            " 4   Low       300 non-null    object        \n",
            " 5   Vol.      300 non-null    object        \n",
            " 6   Change %  300 non-null    object        \n",
            "dtypes: datetime64[ns](1), object(6)\n",
            "memory usage: 18.8+ KB\n"
          ]
        }
      ]
    },
    {
      "cell_type": "markdown",
      "source": [
        "To represent the dates numerically, we can calculate how many days after was a data point recorded from the baseline date, for which we will choose Jan 1, 2020."
      ],
      "metadata": {
        "id": "4nky6P8uxzkD"
      }
    },
    {
      "cell_type": "code",
      "source": [
        "for code in stock_dfs:\n",
        "  df = stock_dfs[code]\n",
        "  df['date_diff'] = df['Date'].apply(lambda x: (x - datetime.strptime('Jan 01, 2020', '%b %d, %Y')).days)"
      ],
      "metadata": {
        "id": "gfFwr-3Fyl4I"
      },
      "execution_count": 28,
      "outputs": []
    },
    {
      "cell_type": "code",
      "source": [
        "stock_dfs['PAMP'].info()"
      ],
      "metadata": {
        "colab": {
          "base_uri": "https://localhost:8080/"
        },
        "id": "78RoZbn_zGXD",
        "outputId": "af4f8366-009d-4bc8-ed79-3d6158a0cc0e"
      },
      "execution_count": 29,
      "outputs": [
        {
          "output_type": "stream",
          "name": "stdout",
          "text": [
            "<class 'pandas.core.frame.DataFrame'>\n",
            "Int64Index: 300 entries, 0 to 299\n",
            "Data columns (total 8 columns):\n",
            " #   Column     Non-Null Count  Dtype         \n",
            "---  ------     --------------  -----         \n",
            " 0   Date       300 non-null    datetime64[ns]\n",
            " 1   Price      300 non-null    object        \n",
            " 2   Open       300 non-null    object        \n",
            " 3   High       300 non-null    object        \n",
            " 4   Low        300 non-null    object        \n",
            " 5   Vol.       300 non-null    object        \n",
            " 6   Change %   300 non-null    object        \n",
            " 7   date_diff  300 non-null    int64         \n",
            "dtypes: datetime64[ns](1), int64(1), object(6)\n",
            "memory usage: 21.1+ KB\n"
          ]
        }
      ]
    },
    {
      "cell_type": "markdown",
      "source": [
        "Now we can visualize how the price changed for each company."
      ],
      "metadata": {
        "id": "q65lFcAFzgqG"
      }
    },
    {
      "cell_type": "code",
      "source": [
        "plt.figure(figsize=(10,10))\n",
        "\n",
        "for code in stock_dfs:\n",
        "  df = stock_dfs[code]\n",
        "  plt.plot(df['date_diff'], df['Price'], label = code)\n",
        "\n",
        "plt.xlabel('days')\n",
        "plt.ylabel('price')\n",
        "plt.title('price vs days')\n",
        "plt.legend()\n",
        "plt.show()"
      ],
      "metadata": {
        "colab": {
          "base_uri": "https://localhost:8080/",
          "height": 621
        },
        "id": "1xvp4Jit0CLG",
        "outputId": "547fcc10-4ccb-4a01-c1fa-ea1e4f10df6d"
      },
      "execution_count": 36,
      "outputs": [
        {
          "output_type": "display_data",
          "data": {
            "text/plain": [
              "<Figure size 720x720 with 1 Axes>"
            ],
            "image/png": "[encoded data removed]"
          },
          "metadata": {
            "needs_background": "light"
          }
        }
      ]
    },
    {
      "cell_type": "markdown",
      "source": [
        "Out of the 8 stocks that we have, IMPJ, 001230 and CCB are significantly more expensive comparing to the others. We can exclude these 3 and see how the others perform."
      ],
      "metadata": {
        "id": "tfZPDcIe0qwU"
      }
    },
    {
      "cell_type": "code",
      "source": [
        "plt.figure(figsize=(10,10))\n",
        "\n",
        "for code in stock_dfs:\n",
        "  if code in ['IMPJ', '001230', 'CCB']:\n",
        "    continue\n",
        "  df = stock_dfs[code]\n",
        "  plt.plot(df['date_diff'], df['Price'], label = code)\n",
        "\n",
        "plt.xlabel('days')\n",
        "plt.ylabel('price')\n",
        "plt.title('price vs days')\n",
        "plt.legend()\n",
        "plt.show()"
      ],
      "metadata": {
        "colab": {
          "base_uri": "https://localhost:8080/",
          "height": 621
        },
        "id": "PGRCJ8Py3Vsp",
        "outputId": "52f7f96a-1319-4ad8-8657-f05a6b013a0d"
      },
      "execution_count": 37,
      "outputs": [
        {
          "output_type": "display_data",
          "data": {
            "text/plain": [
              "<Figure size 720x720 with 1 Axes>"
            ],
            "image/png": "[encoded data removed]"
          },
          "metadata": {
            "needs_background": "light"
          }
        }
      ]
    },
    {
      "cell_type": "markdown",
      "source": [
        "It seems that MNHD is performing stably at the low price range that is below 5 whereas the other stocks flunctuates a bit more.\n",
        "\n",
        "We will pick 'PAMP' for our initial attempt of modelling."
      ],
      "metadata": {
        "id": "bSppwCyO3ht8"
      }
    },
    {
      "cell_type": "markdown",
      "source": [
        "## Preparing the datasets"
      ],
      "metadata": {
        "id": "N1S2l38-N51c"
      }
    },
    {
      "cell_type": "code",
      "source": [
        "df['Date']"
      ],
      "metadata": {
        "colab": {
          "base_uri": "https://localhost:8080/"
        },
        "id": "Stp-exsb383Z",
        "outputId": "9ceefec2-0836-466b-86c1-73f5876a7be5"
      },
      "execution_count": 41,
      "outputs": [
        {
          "output_type": "execute_result",
          "data": {
            "text/plain": [
              "0     2021-03-31\n",
              "1     2021-03-30\n",
              "2     2021-03-29\n",
              "3     2021-03-26\n",
              "4     2021-03-25\n",
              "         ...    \n",
              "295   2020-01-08\n",
              "296   2020-01-07\n",
              "297   2020-01-06\n",
              "298   2020-01-03\n",
              "299   2020-01-02\n",
              "Name: Date, Length: 300, dtype: datetime64[ns]"
            ]
          },
          "metadata": {},
          "execution_count": 41
        }
      ]
    },
    {
      "cell_type": "code",
      "source": [
        "df = stock_dfs['PAMP']\n",
        "\n",
        "# Training set: price from 2020, Testing set: price from 2021\n",
        "train_df = df[df['Date'].apply(lambda x: x.year == 2020)]\n",
        "test_df = df[df['Date'].apply(lambda x: x.year == 2021)]\n",
        "\n",
        "X_train, y_train = train_df['date_diff'], train_df['Price']\n",
        "X_test, y_test = test_df['date_diff'], test_df['Price']"
      ],
      "metadata": {
        "id": "RpnWyLoVN88b"
      },
      "execution_count": 45,
      "outputs": []
    },
    {
      "cell_type": "markdown",
      "source": [
        "## Modelling with RNN"
      ],
      "metadata": {
        "id": "cMNwcTF14BaH"
      }
    },
    {
      "cell_type": "code",
      "source": [
        "import tensorflow as tf\n",
        "\n"
      ],
      "metadata": {
        "id": "UjAvgeY24syB"
      },
      "execution_count": null,
      "outputs": []
    }
  ]
}